{
 "cells": [
  {
   "cell_type": "markdown",
   "metadata": {},
   "source": [
    "## COPERNICUS Vegetation Indicatorss "
   ]
  },
  {
   "cell_type": "markdown",
   "metadata": {},
   "source": [
    "### <a name=\"service\">Service Definition"
   ]
  },
  {
   "cell_type": "code",
   "execution_count": null,
   "metadata": {
    "collapsed": true
   },
   "outputs": [],
   "source": [
    "service = dict([('title', 'COPERNICUS Vegetation Indicators - Aggregations'),\n",
    "                ('abstract', 'COPERNICUS Vegetation Indicators - Aggregations'),\n",
    "                ('id', 'wfp-01-03-01')])"
   ]
  },
  {
   "cell_type": "markdown",
   "metadata": {},
   "source": [
    "### <a name=\"parameter\">Parameter Definition "
   ]
  },
  {
   "cell_type": "code",
   "execution_count": null,
   "metadata": {},
   "outputs": [],
   "source": [
    "N_1 = dict([('id', 'N_1'),\n",
    "                          ('value', 'True'),\n",
    "                          ('title', 'No Aggregation'),\n",
    "                          ('abstract', 'No aggregation')])"
   ]
  },
  {
   "cell_type": "code",
   "execution_count": null,
   "metadata": {},
   "outputs": [],
   "source": [
    "N_3 = dict([('id', 'N_3'),\n",
    "                          ('value', 'True'),\n",
    "                          ('title', '30 Day Aggregation'),\n",
    "                          ('abstract', 'Get a 30 day aggregation')])"
   ]
  },
  {
   "cell_type": "code",
   "execution_count": null,
   "metadata": {},
   "outputs": [],
   "source": [
    "N_6 = dict([('id', 'N_6'),\n",
    "                          ('value', 'False'),\n",
    "                          ('title', '60 Day Aggregation'),\n",
    "                          ('abstract', 'Get a 60 day aggregation')])"
   ]
  },
  {
   "cell_type": "code",
   "execution_count": null,
   "metadata": {},
   "outputs": [],
   "source": [
    "N_9 = dict([('id', 'N_9'),\n",
    "                          ('value', 'False'),\n",
    "                          ('title', '90 Day Aggregation'),\n",
    "                          ('abstract', 'Get a 90 day aggregation')])"
   ]
  },
  {
   "cell_type": "code",
   "execution_count": null,
   "metadata": {},
   "outputs": [],
   "source": [
    "N_12 = dict([('id', 'N_12'),\n",
    "                          ('value', 'False'),\n",
    "                          ('title', '120 Day Aggregation'),\n",
    "                          ('abstract', 'Get a 120 day aggregation')])"
   ]
  },
  {
   "cell_type": "code",
   "execution_count": null,
   "metadata": {},
   "outputs": [],
   "source": [
    "N_15 = dict([('id', 'N_15'),\n",
    "                          ('value', 'False'),\n",
    "                          ('title', '150 Day Aggregation'),\n",
    "                          ('abstract', 'Get a 150 day aggregation')])"
   ]
  },
  {
   "cell_type": "code",
   "execution_count": null,
   "metadata": {},
   "outputs": [],
   "source": [
    "N_18 = dict([('id', 'N_18'),\n",
    "                          ('value', 'False'),\n",
    "                          ('title', '180 Day Aggregation'),\n",
    "                          ('abstract', 'Get a 180 day aggregation')])"
   ]
  },
  {
   "cell_type": "code",
   "execution_count": null,
   "metadata": {},
   "outputs": [],
   "source": [
    "N_27 = dict([('id', 'N_27'),\n",
    "                          ('value', 'False'),\n",
    "                          ('title', '270 Day Aggregation'),\n",
    "                          ('abstract', 'Get a 270 day aggregation')])"
   ]
  },
  {
   "cell_type": "code",
   "execution_count": null,
   "metadata": {},
   "outputs": [],
   "source": [
    "N_36 = dict([('id', 'N_36'),\n",
    "                          ('value', 'False'),\n",
    "                          ('title', '360 Day Aggregation'),\n",
    "                          ('abstract', 'Get a 360 day aggregation')])"
   ]
  },
  {
   "cell_type": "code",
   "execution_count": null,
   "metadata": {},
   "outputs": [],
   "source": [
    "regionOfInterest = dict([('id', 'regionOfInterest'),\n",
    "                          ('value', 'POLYGON ((26.832 9.5136, 28.6843 9.5136, 28.6843 7.8009, 26.832 7.8009, 26.832 9.5136))'),\n",
    "                          ('title', 'WKT Polygon for the Region of Interest'),\n",
    "                          ('abstract', 'Set the value of WKT Polygon')])"
   ]
  },
  {
   "cell_type": "code",
   "execution_count": null,
   "metadata": {},
   "outputs": [],
   "source": [
    "nameOfRegion = dict([('id', 'nameOfRegion'),\n",
    "                     ('value', ''),\n",
    "                     ('title', 'Name of Region'),\n",
    "                     ('abstract', 'Name of the region of interest'),\n",
    "                     ('minOccurs', '1')])"
   ]
  },
  {
   "cell_type": "markdown",
   "metadata": {},
   "source": [
    "### <a name=\"runtime\">Runtime parameter definition"
   ]
  },
  {
   "cell_type": "markdown",
   "metadata": {},
   "source": [
    "**Input references**"
   ]
  },
  {
   "cell_type": "code",
   "execution_count": 13,
   "metadata": {
    "collapsed": true,
    "param": "aoi"
   },
   "outputs": [],
   "source": [
    "input_references = ('https://catalog.terradue.com/cgls/search?format=atom&uid=fapar_v2_1km_FAPAR-RT6_201702280000_GLOBE_PROBAV_V2.0.2')"
   ]
  },
  {
   "cell_type": "markdown",
   "metadata": {},
   "source": [
    "### <a name=\"workflow\">Workflow"
   ]
  },
  {
   "cell_type": "markdown",
   "metadata": {},
   "source": [
    "#### Import the packages required for processing the data"
   ]
  },
  {
   "cell_type": "code",
   "execution_count": 14,
   "metadata": {
    "collapsed": true
   },
   "outputs": [],
   "source": [
    "import os\n",
    "import sys\n",
    "#sys.path.append('/opt/OTB-6.2.0/lib/python')\n",
    "#sys.path.append('/opt/OTB-6.2.0/lib/libfftw3.so.3')\n",
    "#os.environ['OTB_APPLICATION_PATH'] = '/opt/OTB-6.2.0/lib/otb/applications'\n",
    "#os.environ['LD_LIBRARY_PATH'] = '/opt/OTB-6.2.0/lib'\n",
    "#os.environ['ITK_AUTOLOAD_PATH'] = '/opt/OTB-6.2.0/lib/otb/applications'\n",
    "#os.environ['GDAL_DATA'] = '/opt/anaconda/share/gdal/'\n",
    "#import otbApplication\n",
    "from osgeo import gdal\n",
    "import numpy as np\n",
    "import pandas as pd\n",
    "from geopandas import GeoDataFrame\n",
    "import math\n",
    "import re\n",
    "import cioppy\n",
    "import shutil\n",
    "sys.path.append('/workspace/wfp-01-03-01/src/main/app-resources/notebook/libexec')\n",
    "sys.path.append('/application/notebook/libexec')\n",
    "from aux_functions import calc_average, calc_max_matrix, matrix_sum, crop_image, write_output_image, get_matrix_list"
   ]
  },
  {
   "cell_type": "code",
   "execution_count": 15,
   "metadata": {},
   "outputs": [],
   "source": [
    "def get_info(row, search_params):\n",
    "    search = ciop.search(end_point=row['catalogue_url'], \n",
    "                                  params=search_params,\n",
    "                                  output_fields='self,identifier,startdate,enclosure',\n",
    "                                  model='GeoTime')[0]\n",
    "    \n",
    "    series = pd.Series(search)\n",
    "    \n",
    "    series['startdate'] = pd.to_datetime(series['startdate'])\n",
    "    \n",
    "    return series"
   ]
  },
  {
   "cell_type": "code",
   "execution_count": 16,
   "metadata": {},
   "outputs": [
    {
     "name": "stdout",
     "output_type": "stream",
     "text": [
      "2    https://catalog.terradue.com/cgls/search?forma...\n",
      "1    https://catalog.terradue.com/cgls/search?forma...\n",
      "0    https://catalog.terradue.com/cgls/search?forma...\n",
      "5    https://catalog.terradue.com/cgls/search?forma...\n",
      "4    https://catalog.terradue.com/cgls/search?forma...\n",
      "3    https://catalog.terradue.com/cgls/search?forma...\n",
      "Name: catalogue_url, dtype: object\n",
      "2017-01-10\n",
      "2017-02-28\n",
      "6\n",
      "5    https://catalog.terradue.com/cgls/search?forma...\n",
      "4    https://catalog.terradue.com/cgls/search?forma...\n",
      "3    https://catalog.terradue.com/cgls/search?forma...\n",
      "2    https://catalog.terradue.com/cgls/search?forma...\n",
      "1    https://catalog.terradue.com/cgls/search?forma...\n",
      "0    https://catalog.terradue.com/cgls/search?forma...\n",
      "Name: catalogue_url, dtype: object\n",
      "2017-01-10\n",
      "2017-02-28\n",
      "6\n"
     ]
    }
   ],
   "source": [
    "#input references used for test only. Remove before deploying to sandbox/production.\n",
    "'''\n",
    "input_references = ['https://catalog.terradue.com/cgls/search?format=atom&uid=fapar_v2_1km_FAPAR-RT6_201702280000_GLOBE_PROBAV_V2.0.2',\n",
    "                   'https://catalog.terradue.com/cgls/search?format=atom&uid=fapar_v2_1km_FAPAR-RT6_201702200000_GLOBE_PROBAV_V2.0.2',\n",
    "                   'https://catalog.terradue.com/cgls/search?format=atom&uid=fapar_v2_1km_FAPAR-RT6_201702100000_GLOBE_PROBAV_V2.0.2',\n",
    "                   'https://catalog.terradue.com/cgls/search?format=atom&uid=fapar_v2_1km_FAPAR-RT6_201701310000_GLOBE_PROBAV_V2.0.2',\n",
    "                   'https://catalog.terradue.com/cgls/search?format=atom&uid=fapar_v2_1km_FAPAR-RT6_201701200000_GLOBE_PROBAV_V2.0.2',\n",
    "                   'https://catalog.terradue.com/cgls/search?format=atom&uid=fapar_v2_1km_FAPAR-RT6_201701100000_GLOBE_PROBAV_V2.0.2',\n",
    "                   'https://catalog.terradue.com/cgls/search?format=atom&uid=lai_v2_1km_LAI-RT6_201701310000_GLOBE_PROBAV_V2.0.2',\n",
    "                   'https://catalog.terradue.com/cgls/search?format=atom&uid=lai_v2_1km_LAI-RT6_201701200000_GLOBE_PROBAV_V2.0.2',\n",
    "                   'https://catalog.terradue.com/cgls/search?format=atom&uid=lai_v2_1km_LAI-RT6_201701100000_GLOBE_PROBAV_V2.0.2',\n",
    "                   'https://catalog.terradue.com/cgls/search?format=atom&uid=lai_v2_1km_LAI-RT6_201702280000_GLOBE_PROBAV_V2.0.2',\n",
    "                   'https://catalog.terradue.com/cgls/search?format=atom&uid=lai_v2_1km_LAI-RT6_201702200000_GLOBE_PROBAV_V2.0.2',\n",
    "                   'https://catalog.terradue.com/cgls/search?format=atom&uid=lai_v2_1km_LAI-RT6_201702100000_GLOBE_PROBAV_V2.0.2']\n",
    "'''\n",
    "if isinstance(input_references, str):\n",
    "    input_references = [input_references]\n",
    "\n",
    "\n",
    "region_of_interest = regionOfInterest['value']\n",
    "nameOfRegion = nameOfRegion['value']\n",
    "#nameOfRegion = 'Africa'\n",
    "ciop = cioppy.Cioppy()\n",
    "\n",
    "lai_references = [ref for ref in input_references if 'LAI' in ref]\n",
    "fapar_references = [ref for ref in input_references if 'FAPAR' in ref]\n",
    "gpd_lai_final = None\n",
    "gpd_fapar_final = None\n",
    "if lai_references:\n",
    "    gpd_data = GeoDataFrame(lai_references,\n",
    "                           columns=['catalogue_url'])\n",
    "\n",
    "    gpd_data = gpd_data.sort_values(by='catalogue_url')\n",
    "    print(gpd_data['catalogue_url'])\n",
    "    start_date = re.findall('\\d{8}0000', gpd_data.iloc[0]['catalogue_url'])[0].replace('0000', '')\n",
    "    end_date = re.findall('\\d{8}0000', gpd_data.iloc[-1]['catalogue_url'])[0].replace('0000', '')\n",
    "    start_date = re.sub(r'(\\d{4})(\\d{2})(\\d{2})', r'\\1-\\2-\\3', start_date)\n",
    "    end_date = re.sub(r'(\\d{4})(\\d{2})(\\d{2})', r'\\1-\\2-\\3', end_date)\n",
    "    print(start_date)\n",
    "    print(end_date)\n",
    "    print(len(lai_references))\n",
    "    search_params =  dict([('start', start_date),\n",
    "                          ('stop', end_date),\n",
    "                          ('count', len(lai_references))])\n",
    "\n",
    "    gpd_lai_final = gpd_data.apply(lambda row: get_info(row, search_params), axis=1)\n",
    "\n",
    "if fapar_references:\n",
    "    gpd_data = GeoDataFrame(fapar_references,\n",
    "                           columns=['catalogue_url'])\n",
    "\n",
    "    gpd_data = gpd_data.sort_values(by='catalogue_url')\n",
    "    print(gpd_data['catalogue_url'])\n",
    "    start_date = re.findall('\\d{8}0000', gpd_data.iloc[0]['catalogue_url'])[0].replace('0000', '')\n",
    "    end_date = re.findall('\\d{8}0000', gpd_data.iloc[-1]['catalogue_url'])[0].replace('0000', '')\n",
    "    start_date = re.sub(r'(\\d{4})(\\d{2})(\\d{2})', r'\\1-\\2-\\3', start_date)\n",
    "    end_date = re.sub(r'(\\d{4})(\\d{2})(\\d{2})', r'\\1-\\2-\\3', end_date)\n",
    "    print(start_date)\n",
    "    print(end_date)\n",
    "    print(len(fapar_references))\n",
    "    search_params =  dict([('start', start_date),\n",
    "                          ('stop', end_date),\n",
    "                          ('count', len(fapar_references))])\n",
    "\n",
    "    gpd_fapar_final = gpd_data.apply(lambda row: get_info(row, search_params), axis=1)"
   ]
  },
  {
   "cell_type": "code",
   "execution_count": 17,
   "metadata": {},
   "outputs": [
    {
     "data": {
      "text/plain": [
       "\"\\ntest_lta = np.array([['', 'start_date', 'end_date', 'enclosure'],\\n                    ['1', '2015.01.10', '2017.01.31', 'LTA.LAI.Sudan.N3.max_values.2015.1.10.2017.1.31.tif'],\\n                    ['2', '2015.01.10', '2017.01.31', 'LTA.FAPAR.Sudan.N3.averages.2015.1.10.2017.1.31.tif']])\\n\\nlta_data = GeoDataFrame(data=test_lta[1:,1:],\\n                        index=test_lta[1:,0],\\n                        columns=test_lta[0,1:])\\nlta_data['start_date'] = pd.to_datetime(lta_data['start_date'])\\nlta_data['end_date'] = pd.to_datetime(lta_data['end_date'])\\nprint(lta_data)\\n\""
      ]
     },
     "execution_count": 17,
     "metadata": {},
     "output_type": "execute_result"
    }
   ],
   "source": [
    "'''\n",
    "test_lta = np.array([['', 'start_date', 'end_date', 'enclosure'],\n",
    "                    ['1', '2015.01.10', '2017.01.31', 'LTA.LAI.Sudan.N3.max_values.2015.1.10.2017.1.31.tif'],\n",
    "                    ['2', '2015.01.10', '2017.01.31', 'LTA.FAPAR.Sudan.N3.averages.2015.1.10.2017.1.31.tif']])\n",
    "\n",
    "lta_data = GeoDataFrame(data=test_lta[1:,1:],\n",
    "                        index=test_lta[1:,0],\n",
    "                        columns=test_lta[0,1:])\n",
    "lta_data['start_date'] = pd.to_datetime(lta_data['start_date'])\n",
    "lta_data['end_date'] = pd.to_datetime(lta_data['end_date'])\n",
    "print(lta_data)\n",
    "'''"
   ]
  },
  {
   "cell_type": "code",
   "execution_count": 18,
   "metadata": {},
   "outputs": [
    {
     "data": {
      "text/plain": [
       "\"\\ndef get_lta_from_dataframe(dataframe, product_type, aggregation, name_of_region, start_day, end_day, start_month, end_month):\\n    dataframe_agr = dataframe[(dataframe['enclosure'].str.contains(aggregation)) &\\n                              (dataframe['enclosure'].str.contains(product_type)) &\\n                              (dataframe['enclosure'].str.contains(name_of_region))]\\n    return dataframe_agr[(dataframe_agr['start_date'].dt.day == start_day) & \\n                     (dataframe_agr['start_date'].dt.month == start_month) & \\n                     (dataframe_agr['end_date'].dt.day == end_day) & \\n                     (dataframe_agr['end_date'].dt.month == end_month)]['enclosure'].tolist()\\n\""
      ]
     },
     "execution_count": 18,
     "metadata": {},
     "output_type": "execute_result"
    }
   ],
   "source": [
    "'''\n",
    "def get_lta_from_dataframe(dataframe, product_type, aggregation, name_of_region, start_day, end_day, start_month, end_month):\n",
    "    dataframe_agr = dataframe[(dataframe['enclosure'].str.contains(aggregation)) &\n",
    "                              (dataframe['enclosure'].str.contains(product_type)) &\n",
    "                              (dataframe['enclosure'].str.contains(name_of_region))]\n",
    "    return dataframe_agr[(dataframe_agr['start_date'].dt.day == start_day) & \n",
    "                     (dataframe_agr['start_date'].dt.month == start_month) & \n",
    "                     (dataframe_agr['end_date'].dt.day == end_day) & \n",
    "                     (dataframe_agr['end_date'].dt.month == end_month)]['enclosure'].tolist()\n",
    "'''"
   ]
  },
  {
   "cell_type": "code",
   "execution_count": 19,
   "metadata": {},
   "outputs": [],
   "source": [
    "def calc_aggregations(product_list, N_value, region_of_interest, product_type):\n",
    "    mask_no_data_value = 0\n",
    "    max_values = 0\n",
    "    averages = 0\n",
    "    temp_list = []\n",
    "    no_data_value = None\n",
    "    print(type(product_list))\n",
    "    for product_url in product_list:\n",
    "        # uncompressed data\n",
    "        product = (product_url.split('/')[-1]).split('.gz')[0]\n",
    "        print(product)\n",
    "        cropped_product_path = 'crop_' + product\n",
    "        cropped_product_path = cropped_product_path.split('.nc')[0] + '.tif'\n",
    "        try:\n",
    "            crop_image(product_url, region_of_interest, cropped_product_path, product_type)\n",
    "            # Read GeoTIFF as an array\n",
    "            dataset = gdal.Open(cropped_product_path)\n",
    "            product_array = dataset.GetRasterBand(1).ReadAsArray()\n",
    "            no_data_value = dataset.GetRasterBand(1).GetNoDataValue()\n",
    "            print(no_data_value)\n",
    "            geo_transform = dataset.GetGeoTransform()\n",
    "            projection = dataset.GetProjection()\n",
    "            ## Create mask of no_data_values\n",
    "            if no_data_value is not None:\n",
    "                if isinstance(mask_no_data_value, int):\n",
    "                    mask_no_data_value = np.where(product_array == no_data_value, 1, 0)\n",
    "                else:\n",
    "                    temp_mask = np.where(product_array == no_data_value, 1, 0)\n",
    "                    mask_no_data_value = matrix_sum(mask_no_data_value, temp_mask)\n",
    "            max_values = calc_max_matrix(max_values, product_array, no_data_value)\n",
    "            temp_list.append(product_array)\n",
    "            dataset = None\n",
    "            \n",
    "        except Exception as e:\n",
    "            print('Error processing the product ' + product + ': ' + str(e))\n",
    "        if os.path.exists(cropped_product_path):\n",
    "            os.remove(cropped_product_path)\n",
    "    \n",
    "    averages = calc_average(temp_list, N_value, no_data_value)\n",
    "    \n",
    "    return max_values, averages, mask_no_data_value, geo_transform, projection"
   ]
  },
  {
   "cell_type": "code",
   "execution_count": 20,
   "metadata": {},
   "outputs": [],
   "source": [
    "def product_stage_in(enclosure, target_dir):\n",
    "    if not os.path.isdir(target_dir):\n",
    "        os.mkdir(target_dir)\n",
    "    return ciop.copy(urls=enclosure, target=target_dir)"
   ]
  },
  {
   "cell_type": "code",
   "execution_count": 21,
   "metadata": {},
   "outputs": [],
   "source": [
    "def write_outputs(product_name, roi_name, first_date, last_date, averages, max_values, mask_no_data_value, image_format, product_count, projection, geo_transform, no_data_value):\n",
    "    filenames = []\n",
    "    filenames.append(product_name + '_' + roi_name + '_N' + str(product_count) + '_averages_' + first_date + '_' + last_date + '.tif')\n",
    "    filenames.append(product_name + '_' + roi_name + '_N' + str(product_count) + '_maxvalues_' + first_date + '_' + last_date + '.tif')\n",
    "    write_output_image(filenames[0], averages, image_format,  mask_no_data_value, projection, geo_transform, no_data_value)\n",
    "    write_output_image(filenames[1], max_values, image_format, mask_no_data_value, projection, geo_transform, no_data_value)\n",
    "    return filenames"
   ]
  },
  {
   "cell_type": "code",
   "execution_count": 22,
   "metadata": {},
   "outputs": [],
   "source": [
    "def get_formatted_date(product_reference):\n",
    "    metadata = ciop.search(end_point=product_reference,\n",
    "                           params=[],\n",
    "                           output_fields='identifier,startdate',\n",
    "                           model=\"GeoTime\")\n",
    "    return metadata[0]['startdate']"
   ]
  },
  {
   "cell_type": "code",
   "execution_count": 23,
   "metadata": {},
   "outputs": [],
   "source": [
    "def write_properties_file(dataframe, output_name):\n",
    "    \n",
    "    title = 'Output %s' % output_name\n",
    "    first_date = get_formatted_date(dataframe.iloc[0]['self'])\n",
    "    last_date = get_formatted_date(dataframe.iloc[-1]['self'])\n",
    "    with open(output_name + '.properties', 'wb') as file:\n",
    "        file.write('title=%s\\n' % title)\n",
    "        file.write('date=%s/%s\\n' % (first_date, last_date))\n",
    "        file.write('geometry=%s' % (regionOfInterest['value']))"
   ]
  },
  {
   "cell_type": "code",
   "execution_count": 24,
   "metadata": {},
   "outputs": [
    {
     "name": "stdout",
     "output_type": "stream",
     "text": [
      "[True, True, False, False, False, False, False, False, False]\n",
      "[2017]\n",
      "[1 2]\n",
      "1\n",
      "['/workspace/wfp-01-03-01/src/main/app-resources/notebook/libexec/tmp_data/c_gls_LAI-RT6_201701100000_GLOBE_PROBAV_V2.0.2.nc']\n",
      "['/workspace/wfp-01-03-01/src/main/app-resources/notebook/libexec/tmp_data/c_gls_LAI-RT6_201701100000_GLOBE_PROBAV_V2.0.2.nc', '/workspace/wfp-01-03-01/src/main/app-resources/notebook/libexec/tmp_data/c_gls_LAI-RT6_201701200000_GLOBE_PROBAV_V2.0.2.nc']\n",
      "['/workspace/wfp-01-03-01/src/main/app-resources/notebook/libexec/tmp_data/c_gls_LAI-RT6_201701100000_GLOBE_PROBAV_V2.0.2.nc', '/workspace/wfp-01-03-01/src/main/app-resources/notebook/libexec/tmp_data/c_gls_LAI-RT6_201701200000_GLOBE_PROBAV_V2.0.2.nc', '/workspace/wfp-01-03-01/src/main/app-resources/notebook/libexec/tmp_data/c_gls_LAI-RT6_201701310000_GLOBE_PROBAV_V2.0.2.nc']\n",
      "2017-01-10\n",
      "2017-01-31\n",
      "<type 'list'>\n",
      "c_gls_LAI-RT6_201701100000_GLOBE_PROBAV_V2.0.2.nc\n",
      "255.0\n",
      "c_gls_LAI-RT6_201701200000_GLOBE_PROBAV_V2.0.2.nc\n",
      "255.0\n",
      "c_gls_LAI-RT6_201701310000_GLOBE_PROBAV_V2.0.2.nc\n",
      "255.0\n",
      "['LAI_Africa_N3_averages_2017-01-10_2017-01-31.tif', 'LAI_Africa_N3_maxvalues_2017-01-10_2017-01-31.tif']\n",
      "2\n",
      "['/workspace/wfp-01-03-01/src/main/app-resources/notebook/libexec/tmp_data/c_gls_LAI-RT6_201702100000_GLOBE_PROBAV_V2.0.2.nc']\n",
      "['/workspace/wfp-01-03-01/src/main/app-resources/notebook/libexec/tmp_data/c_gls_LAI-RT6_201702100000_GLOBE_PROBAV_V2.0.2.nc', '/workspace/wfp-01-03-01/src/main/app-resources/notebook/libexec/tmp_data/c_gls_LAI-RT6_201702200000_GLOBE_PROBAV_V2.0.2.nc']\n",
      "['/workspace/wfp-01-03-01/src/main/app-resources/notebook/libexec/tmp_data/c_gls_LAI-RT6_201702100000_GLOBE_PROBAV_V2.0.2.nc', '/workspace/wfp-01-03-01/src/main/app-resources/notebook/libexec/tmp_data/c_gls_LAI-RT6_201702200000_GLOBE_PROBAV_V2.0.2.nc', '/workspace/wfp-01-03-01/src/main/app-resources/notebook/libexec/tmp_data/c_gls_LAI-RT6_201702280000_GLOBE_PROBAV_V2.0.2.nc']\n",
      "2017-02-10\n",
      "2017-02-28\n",
      "<type 'list'>\n",
      "c_gls_LAI-RT6_201702100000_GLOBE_PROBAV_V2.0.2.nc\n",
      "255.0\n",
      "c_gls_LAI-RT6_201702200000_GLOBE_PROBAV_V2.0.2.nc\n",
      "255.0\n",
      "c_gls_LAI-RT6_201702280000_GLOBE_PROBAV_V2.0.2.nc\n",
      "255.0\n",
      "['LAI_Africa_N3_averages_2017-02-10_2017-02-28.tif', 'LAI_Africa_N3_maxvalues_2017-02-10_2017-02-28.tif']\n",
      "[1 2]\n",
      "1\n",
      "['/workspace/wfp-01-03-01/src/main/app-resources/notebook/libexec/tmp_data/c_gls_FAPAR-RT6_201701100000_GLOBE_PROBAV_V2.0.2.nc']\n",
      "['/workspace/wfp-01-03-01/src/main/app-resources/notebook/libexec/tmp_data/c_gls_FAPAR-RT6_201701100000_GLOBE_PROBAV_V2.0.2.nc', '/workspace/wfp-01-03-01/src/main/app-resources/notebook/libexec/tmp_data/c_gls_FAPAR-RT6_201701200000_GLOBE_PROBAV_V2.0.2.nc']\n",
      "['/workspace/wfp-01-03-01/src/main/app-resources/notebook/libexec/tmp_data/c_gls_FAPAR-RT6_201701100000_GLOBE_PROBAV_V2.0.2.nc', '/workspace/wfp-01-03-01/src/main/app-resources/notebook/libexec/tmp_data/c_gls_FAPAR-RT6_201701200000_GLOBE_PROBAV_V2.0.2.nc', '/workspace/wfp-01-03-01/src/main/app-resources/notebook/libexec/tmp_data/c_gls_FAPAR-RT6_201701310000_GLOBE_PROBAV_V2.0.2.nc']\n",
      "2017-01-10 00:00:00\n",
      "2017-01-31 00:00:00\n",
      "<type 'list'>\n",
      "c_gls_FAPAR-RT6_201701100000_GLOBE_PROBAV_V2.0.2.nc\n",
      "255.0\n",
      "c_gls_FAPAR-RT6_201701200000_GLOBE_PROBAV_V2.0.2.nc\n",
      "255.0\n",
      "c_gls_FAPAR-RT6_201701310000_GLOBE_PROBAV_V2.0.2.nc\n",
      "255.0\n",
      "2\n"
     ]
    },
    {
     "ename": "Exception",
     "evalue": "subprocess returned: 1\n2019-02-06T12:34:00 [INFO   ][ciop-copy][starting] url 'https://store.terradue.com/cgls/fapar_v2_1km/2017/02/10/files/v1/c_gls_FAPAR-RT6_201702100000_GLOBE_PROBAV_V2.0.2.nc' > local '/workspace/wfp-01-03-01/src/main/app-resources/notebook/libexec/tmp_data/'\n2019-02-06T12:34:01 [ERROR  ][ciop-copy][failed] sink '/workspace/wfp-01-03-01/src/main/app-resources/notebook/libexec/tmp_data/c_gls_FAPAR-RT6_201702100000_GLOBE_PROBAV_V2.0.2.nc' already exists\n",
     "output_type": "error",
     "traceback": [
      "\u001b[0;31m\u001b[0m",
      "\u001b[0;31mException\u001b[0mTraceback (most recent call last)",
      "\u001b[0;32m<ipython-input-24-34dc3803f6d0>\u001b[0m in \u001b[0;36m<module>\u001b[0;34m()\u001b[0m\n\u001b[1;32m    137\u001b[0m                         \u001b[0mfile_list\u001b[0m \u001b[0;34m=\u001b[0m \u001b[0;34m[\u001b[0m\u001b[0;34m]\u001b[0m\u001b[0;34m\u001b[0m\u001b[0m\n\u001b[1;32m    138\u001b[0m                         \u001b[0;32mfor\u001b[0m \u001b[0menclosure\u001b[0m \u001b[0;32min\u001b[0m \u001b[0minterval_products\u001b[0m\u001b[0;34m:\u001b[0m\u001b[0;34m\u001b[0m\u001b[0m\n\u001b[0;32m--> 139\u001b[0;31m                             \u001b[0mfilepath\u001b[0m \u001b[0;34m=\u001b[0m \u001b[0mproduct_stage_in\u001b[0m\u001b[0;34m(\u001b[0m\u001b[0menclosure\u001b[0m\u001b[0;34m,\u001b[0m \u001b[0;34m'tmp_data'\u001b[0m\u001b[0;34m)\u001b[0m\u001b[0;34m\u001b[0m\u001b[0m\n\u001b[0m\u001b[1;32m    140\u001b[0m                             \u001b[0mfile_list\u001b[0m\u001b[0;34m.\u001b[0m\u001b[0mappend\u001b[0m\u001b[0;34m(\u001b[0m\u001b[0mfilepath\u001b[0m\u001b[0;34m)\u001b[0m\u001b[0;34m\u001b[0m\u001b[0m\n\u001b[1;32m    141\u001b[0m                             \u001b[0;32mprint\u001b[0m\u001b[0;34m(\u001b[0m\u001b[0mfile_list\u001b[0m\u001b[0;34m)\u001b[0m\u001b[0;34m\u001b[0m\u001b[0m\n",
      "\u001b[0;32m<ipython-input-20-79acce3914e8>\u001b[0m in \u001b[0;36mproduct_stage_in\u001b[0;34m(enclosure, target_dir)\u001b[0m\n\u001b[1;32m      2\u001b[0m     \u001b[0;32mif\u001b[0m \u001b[0;32mnot\u001b[0m \u001b[0mos\u001b[0m\u001b[0;34m.\u001b[0m\u001b[0mpath\u001b[0m\u001b[0;34m.\u001b[0m\u001b[0misdir\u001b[0m\u001b[0;34m(\u001b[0m\u001b[0mtarget_dir\u001b[0m\u001b[0;34m)\u001b[0m\u001b[0;34m:\u001b[0m\u001b[0;34m\u001b[0m\u001b[0m\n\u001b[1;32m      3\u001b[0m         \u001b[0mos\u001b[0m\u001b[0;34m.\u001b[0m\u001b[0mmkdir\u001b[0m\u001b[0;34m(\u001b[0m\u001b[0mtarget_dir\u001b[0m\u001b[0;34m)\u001b[0m\u001b[0;34m\u001b[0m\u001b[0m\n\u001b[0;32m----> 4\u001b[0;31m     \u001b[0;32mreturn\u001b[0m \u001b[0mciop\u001b[0m\u001b[0;34m.\u001b[0m\u001b[0mcopy\u001b[0m\u001b[0;34m(\u001b[0m\u001b[0murls\u001b[0m\u001b[0;34m=\u001b[0m\u001b[0menclosure\u001b[0m\u001b[0;34m,\u001b[0m \u001b[0mtarget\u001b[0m\u001b[0;34m=\u001b[0m\u001b[0mtarget_dir\u001b[0m\u001b[0;34m)\u001b[0m\u001b[0;34m\u001b[0m\u001b[0m\n\u001b[0m",
      "\u001b[0;32m/opt/anaconda/lib/python2.7/site-packages/cioppy/cioppy.pyc\u001b[0m in \u001b[0;36mcopy\u001b[0;34m(self, urls, target, extract)\u001b[0m\n\u001b[1;32m    145\u001b[0m \u001b[0;34m\u001b[0m\u001b[0m\n\u001b[1;32m    146\u001b[0m         \u001b[0;32mif\u001b[0m \u001b[0mp\u001b[0m\u001b[0;34m.\u001b[0m\u001b[0mreturncode\u001b[0m\u001b[0;34m:\u001b[0m\u001b[0;34m\u001b[0m\u001b[0m\n\u001b[0;32m--> 147\u001b[0;31m             \u001b[0;32mraise\u001b[0m \u001b[0mException\u001b[0m\u001b[0;34m(\u001b[0m\u001b[0;34m'subprocess returned: '\u001b[0m \u001b[0;34m+\u001b[0m \u001b[0mstr\u001b[0m\u001b[0;34m(\u001b[0m\u001b[0mp\u001b[0m\u001b[0;34m.\u001b[0m\u001b[0mreturncode\u001b[0m\u001b[0;34m)\u001b[0m \u001b[0;34m+\u001b[0m \u001b[0;34m'\\n'\u001b[0m \u001b[0;34m+\u001b[0m \u001b[0merr\u001b[0m \u001b[0;34m)\u001b[0m\u001b[0;34m\u001b[0m\u001b[0m\n\u001b[0m\u001b[1;32m    148\u001b[0m \u001b[0;34m\u001b[0m\u001b[0m\n\u001b[1;32m    149\u001b[0m         \u001b[0;32mreturn\u001b[0m \u001b[0mres\u001b[0m\u001b[0;34m.\u001b[0m\u001b[0mrstrip\u001b[0m\u001b[0;34m(\u001b[0m\u001b[0;34m'\\n'\u001b[0m\u001b[0;34m)\u001b[0m\u001b[0;34m\u001b[0m\u001b[0m\n",
      "\u001b[0;31mException\u001b[0m: subprocess returned: 1\n2019-02-06T12:34:00 [INFO   ][ciop-copy][starting] url 'https://store.terradue.com/cgls/fapar_v2_1km/2017/02/10/files/v1/c_gls_FAPAR-RT6_201702100000_GLOBE_PROBAV_V2.0.2.nc' > local '/workspace/wfp-01-03-01/src/main/app-resources/notebook/libexec/tmp_data/'\n2019-02-06T12:34:01 [ERROR  ][ciop-copy][failed] sink '/workspace/wfp-01-03-01/src/main/app-resources/notebook/libexec/tmp_data/c_gls_FAPAR-RT6_201702100000_GLOBE_PROBAV_V2.0.2.nc' already exists\n"
     ]
    }
   ],
   "source": [
    "nlist = [N_1['value'], N_3['value'], N_6['value'], N_9['value'], N_12['value'], N_15['value'], N_18['value'], N_27['value'], N_36['value']]\n",
    "nvalue = [1, 3, 6, 9, 12, 15, 18, 27, 36]\n",
    "#L = len(gpd_final.index.values)\n",
    "nlist = [n=='True' for n in nlist]\n",
    "print(nlist)\n",
    "if gpd_lai_final is not None:\n",
    "    lai_product_years = gpd_lai_final['startdate'].dt.year.unique()\n",
    "else:\n",
    "    lai_product_years = []\n",
    "if gpd_fapar_final is not None:\n",
    "    fapar_product_years = gpd_fapar_final['startdate'].dt.year.unique()\n",
    "else:\n",
    "    fapar_product_years = []\n",
    "product_years = list(lai_product_years) + list(set(fapar_product_years) - set(lai_product_years))\n",
    "print(product_years)\n",
    "for _year in product_years:\n",
    "    #products_data = gpd_final[(gpd_final['startdate'].dt.year == _year)]\n",
    "    #lai_products = products_data[(products_data['identifier'].str.contains('lai'))]\n",
    "    #fapar_products = products_data[(products_data['identifier'].str.contains('fapar'))]\n",
    "    lai_products = gpd_lai_final[(gpd_lai_final['startdate'].dt.year == _year)]\n",
    "    fapar_products = gpd_fapar_final[(gpd_fapar_final['startdate'].dt.year == _year)]\n",
    "    if not lai_products.empty:\n",
    "        products_data = lai_products\n",
    "        L = len(products_data.index.values)\n",
    "        months_of_products = products_data['startdate'].dt.month.unique()\n",
    "        print(months_of_products)\n",
    "        for n in [index for index, value in enumerate(nlist) if value==True]:\n",
    "            N = nvalue[n]\n",
    "            n_months = N/3\n",
    "            if N == 1:\n",
    "                pass\n",
    "            else: \n",
    "                if N == 3:\n",
    "                    for month_idx in months_of_products:\n",
    "                        print(month_idx)\n",
    "                        start_date = products_data[(products_data['startdate'].dt.month == month_idx)].iloc[0]['startdate']\n",
    "                        end_date = products_data[(products_data['startdate'].dt.month == month_idx)].iloc[-1]['startdate']\n",
    "                        interval_gpd = products_data[(products_data['startdate'] >= start_date) & (products_data['startdate'] <= end_date)]\n",
    "                        interval_products = interval_gpd['enclosure'].tolist()\n",
    "                        \n",
    "                        file_list = []\n",
    "                        for enclosure in interval_products:\n",
    "                            filepath = product_stage_in(enclosure, 'tmp_data')\n",
    "                            file_list.append(filepath)\n",
    "                            print(file_list)\n",
    "                        if file_list:\n",
    "                            first_date = start_date.strftime('%Y-%m-%d')\n",
    "                            last_date = end_date.strftime('%Y-%m-%d')\n",
    "                            print(first_date)\n",
    "                            print(last_date)\n",
    "                            max_values, averages, no_value, geo_transform, projection = calc_aggregations(file_list, N, region_of_interest, 'LAI')\n",
    "                        \n",
    "                            '''\n",
    "                            LTA_max_values = get_lta_from_dataframe(lta_data, 'LAI', 'max_values', nameOfRegion, start_date.day, end_date.day, start_date.month, end_date.month)\n",
    "                            LTA_averages = get_lta_from_dataframe(lta_data, 'LAI', 'averages', nameOfRegion, start_date.day, end_date.day, start_date.month, end_date.month)\n",
    "\n",
    "                            print('Calculating anomalies...')\n",
    "                            if LTA_max_values:\n",
    "                                LTA_max_values = get_matrix_list(LTA_max_values)[0]\n",
    "                                anomaly_max_values = np.divide(max_values, LTA_max_values)\n",
    "                                print(anomaly_max_values)\n",
    "                            if LTA_averages:\n",
    "                                LTA_averages = get_matrix_list(LTA_averages)[0]\n",
    "                                anomaly_averages = np.divide(averages, LTA_averages)\n",
    "                                print(anomaly_averages)\n",
    "                            '''\n",
    "                        \n",
    "                            filenames = write_outputs('LAI', nameOfRegion, first_date, last_date, averages, max_values, no_value, 'GTiff', N, projection, geo_transform, -999.0)\n",
    "                            print(filenames)\n",
    "                            for output_name in filenames:\n",
    "                                write_properties_file(interval_gpd, output_name)\n",
    "                            for tmp_file in file_list:\n",
    "                                os.remove(tmp_file)\n",
    "                        else:\n",
    "                            print('ERROR: No LAI product files found.')\n",
    "                else:\n",
    "                    for month_idx in range(months_of_products[0], months_of_products[-1], n_months):\n",
    "                        start_date = products_data[(products_data['startdate'].dt.month == month_idx)].iloc[0]['startdate']\n",
    "                        end_date = products_data[(products_data['startdate'].dt.month == month_idx + n_months-1)].iloc[-1]['startdate']\n",
    "                        interval_gpd = products_data[(products_data['startdate'] >= start_date) & (products_data['startdate'] <= end_date)]\n",
    "                        interval_products = interval_gpd['enclosure'].tolist()\n",
    "                        \n",
    "                        file_list = []\n",
    "                        for enclosure in interval_products:\n",
    "                            filepath = product_stage_in(enclosure, 'tmp_data')\n",
    "                            file_list.append(filepath)\n",
    "                            print(file_list)\n",
    "                        if file_list:\n",
    "                            first_date = start_date.strftime('%Y-%m-%d')\n",
    "                            last_date = end_date.strftime('%Y-%m-%d')\n",
    "                            print(start_date)\n",
    "                            print(end_date)\n",
    "                            max_values, averages, no_value, geo_transform, projection = calc_aggregations(file_list, N, region_of_interest, 'LAI')\n",
    "                        \n",
    "                            '''\n",
    "                            LTA_max_values = get_lta_from_dataframe(lta_data, 'LAI', 'max_values', nameOfRegion, start_date.day, end_date.day, start_date.month, end_date.month)\n",
    "                            LTA_averages = get_lta_from_dataframe(lta_data, 'LAI', 'averages', nameOfRegion, start_date.day, end_date.day, start_date.month, end_date.month)\n",
    "\n",
    "                            print('Calculating anomalies...')\n",
    "                            if LTA_max_values:\n",
    "                                LTA_max_values = get_matrix_list(LTA_max_values)[0]\n",
    "                                anomaly_max_values = np.divide(max_values, LTA_max_values)\n",
    "                                print(anomaly_max_values)\n",
    "                            if LTA_averages:\n",
    "                                LTA_averages = get_matrix_list(LTA_averages)[0]\n",
    "                                anomaly_averages = np.divide(averages, LTA_averages)\n",
    "                                print(anomaly_averages)\n",
    "                            '''\n",
    "                        \n",
    "                            filenames = write_outputs('LAI', nameOfRegion, first_date, last_date, averages, max_values, no_value, 'GTiff', N, projection, geo_transform, -999.0)\n",
    "                            for output_name in filenames:\n",
    "                                write_properties_file(interval_gpd, output_name)\n",
    "                            for tmp_file in file_list:\n",
    "                                os.remove(tmp_file)\n",
    "                        else:\n",
    "                            print('ERROR: No LAI product files found.')\n",
    "    \n",
    "    if not fapar_products.empty:\n",
    "        products_data = fapar_products\n",
    "        L = len(products_data.index.values)\n",
    "        months_of_products = products_data['startdate'].dt.month.unique()\n",
    "        print(months_of_products)\n",
    "        for n in [index for index, value in enumerate(nlist) if value==True]:\n",
    "            N = nvalue[n]\n",
    "            n_months = N/3\n",
    "            if N == 1:\n",
    "                pass\n",
    "            else: \n",
    "                if N == 3:\n",
    "                    for month_idx in months_of_products:\n",
    "                        print(month_idx)\n",
    "                        start_date = products_data[(products_data['startdate'].dt.month == month_idx)].iloc[0]['startdate']\n",
    "                        end_date = products_data[(products_data['startdate'].dt.month == month_idx)].iloc[-1]['startdate']\n",
    "                        interval_gpd = products_data[(products_data['startdate'] >= start_date) & (products_data['startdate'] <= end_date)]\n",
    "                        interval_products = interval_gpd['enclosure'].tolist()\n",
    "                        \n",
    "                        file_list = []\n",
    "                        for enclosure in interval_products:\n",
    "                            filepath = product_stage_in(enclosure, 'tmp_data')\n",
    "                            file_list.append(filepath)\n",
    "                            print(file_list)\n",
    "                        if file_list:\n",
    "                            first_date = start_date.strftime('%Y-%m-%d')\n",
    "                            last_date = end_date.strftime('%Y-%m-%d')\n",
    "                            print(start_date)\n",
    "                            print(end_date)\n",
    "                            max_values, averages, no_value, geo_transform, projection = calc_aggregations(file_list, N, region_of_interest, 'FAPAR')\n",
    "                        \n",
    "                            '''\n",
    "                            LTA_max_values = get_lta_from_dataframe(lta_data, 'LAI', 'max_values', nameOfRegion, start_date.day, end_date.day, start_date.month, end_date.month)\n",
    "                            LTA_averages = get_lta_from_dataframe(lta_data, 'LAI', 'averages', nameOfRegion, start_date.day, end_date.day, start_date.month, end_date.month)\n",
    "\n",
    "                            print('Calculating anomalies...')\n",
    "                            if LTA_max_values:\n",
    "                                LTA_max_values = get_matrix_list(LTA_max_values)[0]\n",
    "                                anomaly_max_values = np.divide(max_values, LTA_max_values)\n",
    "                                print(anomaly_max_values)\n",
    "                            if LTA_averages:\n",
    "                                LTA_averages = get_matrix_list(LTA_averages)[0]\n",
    "                                anomaly_averages = np.divide(averages, LTA_averages)\n",
    "                                print(anomaly_averages)\n",
    "                            '''\n",
    "                        \n",
    "                            filenames = write_outputs('FAPAR', nameOfRegion, first_date, last_date, averages, max_values, no_value, 'GTiff', N, projection, geo_transform, -999.0)\n",
    "                            for output_name in filenames:\n",
    "                                write_properties_file(interval_gpd, output_name)\n",
    "                            for tmp_file in file_list:\n",
    "                                os.remove(tmp_file)\n",
    "                        else:\n",
    "                            print('ERROR: No fAPAR product files found.')\n",
    "                    \n",
    "                else:\n",
    "                    for month_idx in range(months_of_products[0], months_of_products[-1], n_months):\n",
    "                        print(month_idx)\n",
    "                        start_date = products_data[(products_data['startdate'].dt.month == month_idx)].iloc[0]['startdate']\n",
    "                        end_date = products_data[(products_data['startdate'].dt.month == month_idx + n_months-1)].iloc[-1]['startdate']\n",
    "                        interval_gpd = products_data[(products_data['startdate'] >= start_date) & (products_data['startdate'] <= end_date)]\n",
    "                        interval_products = interval_gpd['enclosure'].tolist()\n",
    "                        \n",
    "                        file_list = []\n",
    "                        for enclosure in interval_products:\n",
    "                            filepath = product_stage_in(enclosure, 'tmp_data')\n",
    "                            file_list.append(filepath)\n",
    "                            print(file_list)\n",
    "                        if file_list:\n",
    "                            first_date = start_date.strftime('%Y-%m-%d')\n",
    "                            last_date = end_date.strftime('%Y-%m-%d')\n",
    "                            print(start_date)\n",
    "                            print(end_date)\n",
    "                            max_values, averages, no_value, geo_transform, projection = calc_aggregations(file_list, N, region_of_interest, 'FAPAR')\n",
    "                        \n",
    "                            '''\n",
    "                            LTA_max_values = get_lta_from_dataframe(lta_data, 'LAI', 'max_values', nameOfRegion, start_date.day, end_date.day, start_date.month, end_date.month)\n",
    "                            LTA_averages = get_lta_from_dataframe(lta_data, 'LAI', 'averages', nameOfRegion, start_date.day, end_date.day, start_date.month, end_date.month)\n",
    "\n",
    "                            print('Calculating anomalies...')\n",
    "                            if LTA_max_values:\n",
    "                                LTA_max_values = get_matrix_list(LTA_max_values)[0]\n",
    "                                anomaly_max_values = np.divide(max_values, LTA_max_values)\n",
    "                                print(anomaly_max_values)\n",
    "                            if LTA_averages:\n",
    "                                LTA_averages = get_matrix_list(LTA_averages)[0]\n",
    "                                anomaly_averages = np.divide(averages, LTA_averages)\n",
    "                                print(anomaly_averages)\n",
    "                            '''\n",
    "                        \n",
    "                        \n",
    "                            filenames = write_outputs('FAPAR', nameOfRegion, first_date, last_date, averages, max_values, no_value, 'GTiff', N, projection, geo_transform, -999.0)\n",
    "                            for output_name in filenames:\n",
    "                                write_properties_file(interval_gpd, output_name)\n",
    "                            for tmp_file in file_list:\n",
    "                                os.remove(tmp_file)\n",
    "                        else:\n",
    "                            print('ERROR: No fAPAR product files found.')   "
   ]
  },
  {
   "cell_type": "code",
   "execution_count": null,
   "metadata": {},
   "outputs": [],
   "source": [
    "'''from matplotlib import pyplot\n",
    "%matplotlib inline\n",
    "\n",
    "\n",
    "fig0 = pyplot.figure()\n",
    "ax0 = fig0.add_subplot(111)\n",
    "cax0 = ax0.matshow(max_values)\n",
    "fig0.colorbar(cax0)\n",
    "\n",
    "fig1 = pyplot.figure()\n",
    "ax1 = fig1.add_subplot(111)\n",
    "cax1 = ax1.matshow(averages)\n",
    "fig1.colorbar(cax1)\n",
    "\n",
    "\n",
    "fig = pyplot.figure()\n",
    "ax = fig.add_subplot(111)\n",
    "cax = ax.matshow(no_value)\n",
    "fig.colorbar(cax)\n",
    "\n",
    "pyplot.show()\n",
    "'''"
   ]
  },
  {
   "cell_type": "markdown",
   "metadata": {},
   "source": [
    "### <a name=\"license\">License"
   ]
  },
  {
   "cell_type": "markdown",
   "metadata": {},
   "source": [
    "This work is licenced under a [Attribution-ShareAlike 4.0 International License (CC BY-SA 4.0)](http://creativecommons.org/licenses/by-sa/4.0/) \n",
    "\n",
    "YOU ARE FREE TO:\n",
    "\n",
    "* Share - copy and redistribute the material in any medium or format.\n",
    "* Adapt - remix, transform, and built upon the material for any purpose, even commercially.\n",
    "\n",
    "UNDER THE FOLLOWING TERMS:\n",
    "\n",
    "* Attribution - You must give appropriate credit, provide a link to the license, and indicate if changes were made. You may do so in any reasonable manner, but not in any way that suggests the licensor endorses you or your use.\n",
    "* ShareAlike - If you remix, transform, or build upon the material, you must distribute your contributions under the same license as the original."
   ]
  },
  {
   "cell_type": "code",
   "execution_count": null,
   "metadata": {
    "collapsed": true
   },
   "outputs": [],
   "source": []
  }
 ],
 "metadata": {
  "kernelspec": {
   "display_name": "Python 2",
   "language": "python",
   "name": "python2"
  },
  "language_info": {
   "codemirror_mode": {
    "name": "ipython",
    "version": 2
   },
   "file_extension": ".py",
   "mimetype": "text/x-python",
   "name": "python",
   "nbconvert_exporter": "python",
   "pygments_lexer": "ipython2",
   "version": "2.7.12"
  }
 },
 "nbformat": 4,
 "nbformat_minor": 2
}
